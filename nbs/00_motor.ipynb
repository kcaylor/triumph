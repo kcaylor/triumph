{
 "cells": [
  {
   "attachments": {},
   "cell_type": "markdown",
   "metadata": {},
   "source": [
    "# motor\n",
    "\n",
    "> Calculations and other programs for a 1959 Triumph TR3A conversion to electric drive."
   ]
  },
  {
   "cell_type": "code",
   "execution_count": 1,
   "metadata": {},
   "outputs": [],
   "source": [
    "#| default_exp motor"
   ]
  },
  {
   "cell_type": "code",
   "execution_count": 2,
   "metadata": {},
   "outputs": [],
   "source": [
    "#| hide\n",
    "from nbdev.showdoc import *\n",
    "from fastcore.test import *"
   ]
  },
  {
   "cell_type": "code",
   "execution_count": 3,
   "metadata": {},
   "outputs": [],
   "source": [
    "#| export\n",
    "import math\n",
    "from triumph.utilities import *"
   ]
  },
  {
   "attachments": {},
   "cell_type": "markdown",
   "metadata": {},
   "source": [
    "### Determining the Tire Radius\n",
    "\n",
    "The 1959 Triumph TR3A typically came equipped with 15-inch wheels. To calculate the wheel radius, you need to take into account both the wheel diameter and the tire profile. In this case, let's consider a tire size of 165/80R15, which is a common tire size used on this vehicle.\n",
    "\n",
    "To find the tire radius, first calculate the sidewall height by multiplying the tire width (165 mm) by the aspect ratio (80%). Then convert this to inches:\n",
    "\n",
    "Sidewall height (in inches) = (165 mm × 0.80) / 25.4 ≈ 5.20 inches\n",
    "\n",
    "Next, add the sidewall height to half of the wheel diameter (7.5 inches):\n",
    "\n",
    "Tire radius (in inches) = 7.5 inches (wheel radius) + 5.20 inches (sidewall height) ≈ 12.70 inches\n",
    "\n",
    "So, the approximate tire radius for a 1959 Triumph TR3A with 165/80R15 tires is 12.7 inches. This value may vary depending on the specific tire model and inflation pressure. "
   ]
  },
  {
   "cell_type": "code",
   "execution_count": 4,
   "metadata": {},
   "outputs": [],
   "source": [
    "#| export\n",
    "def tire_radius(tire:str=\"165/80R15\" # tire size in the format of \"165/80R15\"\n",
    "                )->float:  # tire radius in inches\n",
    "    \"\"\"Calculate the tire radius in inches\n",
    "    \"\"\"\n",
    "    wheel_diameter_inches = int(tire[-2:]) \n",
    "    sidewall_height = int(tire[0:3]) # sidewall height in mm\n",
    "    aspect_ratio = int(tire.split(\"/\")[1][0:2]) # aspect ratio\n",
    "    sidewall_height_inches = sidewall_height * (aspect_ratio / 100) / 25.4 # sidewall height in inches\n",
    "    radius = wheel_diameter_inches / 2 + sidewall_height_inches\n",
    "    return radius\n"
   ]
  },
  {
   "attachments": {},
   "cell_type": "markdown",
   "metadata": {},
   "source": [
    "# Convert Engine, Wheel and Gear information into a 0-to-60 time\n",
    "\n",
    "To determine how many seconds it will take to accelerate to 60 mph, we need to know the mass of the car, the force acting on the car, and the acceleration of the car.\n",
    "\n",
    "The acceleration of the car is given by Newton's second law of motion: $F = M * A$.\n",
    "\n",
    "The force moving the car forward is governed by the engine torque, but modified by the gear ratio and the radius of the tires.\n",
    "\n",
    "Specifically, engine torque ($T$, [Nm]) is multiplied by the gear ratio ($G$), which provides a total torque acting on the tires. In addition, the force acting on the tires is not the same as the torque between the tires and the pavement. The torque between the tires and the pavement is determined by the radius of the tires, $R$ [m]: \n",
    "\n",
    "$$F = T * G / R$$\n",
    "\n",
    "### Torque to Force Conversion:"
   ]
  },
  {
   "cell_type": "code",
   "execution_count": 5,
   "metadata": {},
   "outputs": [],
   "source": [
    "#| export\n",
    "def Torque_to_Force(torque:float, # torque in Nm\n",
    "                    gear_ratio:float, # gear ratio\n",
    "                    radius: float # radius of the wheel in m\n",
    "                    )->float:   # Force acting on the pavement to push the car (N)\n",
    "    \"\"\" Convert engine torque to force acting on pavement to push the car \"\"\"\n",
    "    return torque * gear_ratio / radius"
   ]
  },
  {
   "attachments": {},
   "cell_type": "markdown",
   "metadata": {},
   "source": [
    "### Test the function\n",
    "\n",
    "Assume we have a vehicle with a torque of 220 Nm and a gear ratio of 3.7. Further assume that the tires have a radius of 0.3 m.\n",
    "\n",
    "In this case, the force acting on the tires is given by: \n",
    "\n",
    "$$ 220 \\text{ Nm} * 3.7 / 0.3 \\text{ m} = 2713.33 \\text{ N}. $$"
   ]
  },
  {
   "cell_type": "code",
   "execution_count": 6,
   "metadata": {},
   "outputs": [
    {
     "name": "stdout",
     "output_type": "stream",
     "text": [
      "The force acting on the pavement to push the car is 2713.33 N\n"
     ]
    }
   ],
   "source": [
    "torque=220 # engine torque in Nm\n",
    "gear_ratio=3.7 # gear ratio\n",
    "radius=0.3 # radius of the wheel in m\n",
    "\n",
    "F = Torque_to_Force(torque, gear_ratio, radius)\n",
    "print(f\"The force acting on the pavement to push the car is {round(F,2)} N\")\n",
    "test_eq(round(F,2),2713.33)"
   ]
  },
  {
   "attachments": {},
   "cell_type": "markdown",
   "metadata": {},
   "source": [
    "### Determining Acceleration\n",
    "To determine how fast the vehicle will accelerate, we need to know the mass of the vehicle. Assume the vehicle has a mass of 2000 lbs."
   ]
  },
  {
   "cell_type": "code",
   "execution_count": 7,
   "metadata": {},
   "outputs": [],
   "source": [
    "#| export\n",
    "def Acceleration(F:float, # Force in N\n",
    "                 mass:float, # mass of the car in kg\n",
    "                 )->float: # acceleration in m/s^2\n",
    "    \"\"\" Calculate the acceleration of the car \"\"\"\n",
    "    return F / mass\n",
    "\n",
    "def zero_to_sixty(A:float # acceleration in m/s^2\n",
    "                  )->float: # time in seconds\n",
    "    \"\"\" Calculate the time it takes to go from 0 to 60 mph \"\"\"\n",
    "    # convert A from m/s^2 to mph/s\n",
    "    A = A * 2.23693629 \n",
    "    return 60 / A\n"
   ]
  },
  {
   "cell_type": "code",
   "execution_count": 8,
   "metadata": {},
   "outputs": [
    {
     "name": "stdout",
     "output_type": "stream",
     "text": [
      "Acceleration: 2.99 m/s^2\n"
     ]
    }
   ],
   "source": [
    "GVWR = 2000 # lbs\n",
    "GVWR_kg = lbs_to_Kg(GVWR)\n",
    "A = Acceleration(F, GVWR_kg)\n",
    "print(f\"Acceleration: {round(A,2)} m/s^2\")\n",
    "test_eq(round(A,2),2.99)"
   ]
  },
  {
   "cell_type": "code",
   "execution_count": 9,
   "metadata": {},
   "outputs": [
    {
     "name": "stdout",
     "output_type": "stream",
     "text": [
      "It will take 8.97 seconds to go from 0 to 60 mph under ideal conditions.\n"
     ]
    }
   ],
   "source": [
    "zero_to_sixty(A)\n",
    "print(\n",
    "    f\"It will take {round(zero_to_sixty(A),2)} seconds to go from 0 \\\n",
    "to 60 mph under ideal conditions.\"\n",
    ")\n",
    "test_eq(round(zero_to_sixty(A),2),8.97)"
   ]
  },
  {
   "attachments": {},
   "cell_type": "markdown",
   "metadata": {},
   "source": [
    "## Determining Top Speed\n",
    "\n",
    "The top speed of the car will be determined by the motor RPMs, the gear ratio, and the radius of the tires."
   ]
  },
  {
   "cell_type": "code",
   "execution_count": 10,
   "metadata": {},
   "outputs": [],
   "source": [
    "#| export\n",
    "def top_speed(rpm_max:float, # max rpm\n",
    "              gear_ratio:float, # gear ratio\n",
    "              radius:float # radius of the wheel in m\n",
    "              )->float: # top speed in mph\n",
    "    \"\"\" Calculate the top speed of the car \"\"\"\n",
    "    return rpm_max * 60 * meters_to_inches(radius) * math.pi / (gear_ratio * 63360)"
   ]
  },
  {
   "cell_type": "code",
   "execution_count": 11,
   "metadata": {},
   "outputs": [
    {
     "data": {
      "text/plain": [
       "66.47675446147143"
      ]
     },
     "execution_count": 11,
     "metadata": {},
     "output_type": "execute_result"
    }
   ],
   "source": [
    "top_speed(7000, 3.7, 0.3)"
   ]
  },
  {
   "cell_type": "code",
   "execution_count": 12,
   "metadata": {},
   "outputs": [
    {
     "name": "stdout",
     "output_type": "stream",
     "text": [
      "Top speed: 76 mph\n"
     ]
    }
   ],
   "source": [
    "rpm_max = 8000 # rpm\n",
    "gear_ratio = 3.7 # gear ratio\n",
    "radius = 0.3 # radius of the wheel in m\n",
    "\n",
    "mph_max = top_speed(rpm_max, gear_ratio, radius)\n",
    "print(f\"Top speed: {round(mph_max)} mph\")\n",
    "\n",
    "test_eq(round(mph_max), 76)"
   ]
  },
  {
   "attachments": {},
   "cell_type": "markdown",
   "metadata": {},
   "source": [
    "### RPMs at a given speed.\n",
    "\n",
    "Knowing the tire dimensions and gear ratio, we can determine the RPM of the engine for any given speed."
   ]
  },
  {
   "cell_type": "code",
   "execution_count": 13,
   "metadata": {},
   "outputs": [],
   "source": [
    "#| export\n",
    "def rpm_at_mph(gear_ratio:float, # gear ratio\n",
    "                 tire:str, # tire size in the format of \"165/80R15\"\n",
    "                 mph:float=60 # speed in mph (default is 60 mph)\n",
    "                 )->float: # rpm\n",
    "    \"\"\" Calculate the rpm at a given speed \"\"\"\n",
    "    radius = tire_radius(tire) # tire radius in inches\n",
    "    tire_circumference = 2 * math.pi * radius # tire circumference in inches\n",
    "    tire_rpm = mph * 5280 * 12 / (tire_circumference * 60) # tire rpm \n",
    "    return round(tire_rpm * gear_ratio)"
   ]
  },
  {
   "cell_type": "code",
   "execution_count": 14,
   "metadata": {},
   "outputs": [
    {
     "name": "stdout",
     "output_type": "stream",
     "text": [
      "The RPM at 60 mph in second gear (2.0):  1588\n",
      "The RPM at 100 mph in fourth gear (1.0):  1324\n"
     ]
    }
   ],
   "source": [
    "print(\"The RPM at 60 mph in second gear (2.0): \", rpm_at_mph(2.0, \"165/80R15\", 60))\n",
    "print(\"The RPM at 100 mph in fourth gear (1.0): \", rpm_at_mph(1.0, \"165/80R15\", 100))\n",
    "test_eq(rpm_at_mph(1, \"165/80R15\", 100),1324)\n",
    "test_eq(rpm_at_mph(2.0, \"165/80R15\", 60),1588)"
   ]
  },
  {
   "attachments": {},
   "cell_type": "markdown",
   "metadata": {},
   "source": [
    "## Exploring the impacts of the gear ratio on acceleration and top speed\n",
    "\n",
    "We want to determine an ideal gear ratio that maximizes the acceleration and top speed of the vehicle. To do this, we'll need to create a function that takes the gear ratio as an input and returns the acceleration and top speed."
   ]
  },
  {
   "cell_type": "code",
   "execution_count": 15,
   "metadata": {},
   "outputs": [],
   "source": [
    "#| export\n",
    "def evaluate(gear_ratio:float, # gear ratio\n",
    "             GVWR:float, # gross vehicle weight rating in kg\n",
    "             tire:str, # tire size in the format of \"165/80R15\"\n",
    "             rpm_max:int, # max rpm\n",
    "             torque:float # torque in Nm\n",
    "             ):\n",
    "    \"\"\" Evaluate the car \"\"\"\n",
    "    radius = tire_radius(tire)/12 # tire radius in feet\n",
    "    radius = feet_to_meters(radius)\n",
    "    F = Torque_to_Force(torque, gear_ratio, radius)\n",
    "    A = Acceleration(F, GVWR)\n",
    "    to60 = zero_to_sixty(A)\n",
    "    mph_max = top_speed(rpm_max, gear_ratio, radius)\n",
    "    return {\"zero to sixty (sec)\":round(to60,1), \"Top speed (mph)\":round(mph_max)}"
   ]
  },
  {
   "cell_type": "code",
   "execution_count": 16,
   "metadata": {},
   "outputs": [],
   "source": [
    "#| hide\n",
    "import nbdev; nbdev.nbdev_export()"
   ]
  }
 ],
 "metadata": {
  "kernelspec": {
   "display_name": "Python 3 (ipykernel)",
   "language": "python",
   "name": "python3"
  },
  "language_info": {
   "codemirror_mode": {
    "name": "ipython",
    "version": 3
   },
   "file_extension": ".py",
   "mimetype": "text/x-python",
   "name": "python",
   "nbconvert_exporter": "python",
   "pygments_lexer": "ipython3",
   "version": "3.10.10"
  }
 },
 "nbformat": 4,
 "nbformat_minor": 4
}
