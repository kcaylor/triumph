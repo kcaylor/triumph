{
 "cells": [
  {
   "attachments": {},
   "cell_type": "markdown",
   "metadata": {},
   "source": [
    "# batteries\n",
    "\n",
    "Calculations and estimation for battery data"
   ]
  },
  {
   "cell_type": "code",
   "execution_count": 1,
   "metadata": {},
   "outputs": [],
   "source": [
    "#| default_exp battery"
   ]
  },
  {
   "cell_type": "code",
   "execution_count": 2,
   "metadata": {},
   "outputs": [],
   "source": [
    "#| hide\n",
    "from nbdev.showdoc import *\n",
    "from fastcore.test import *\n",
    "from matplotlib import pyplot as plt\n",
    "import pandas as pd"
   ]
  },
  {
   "cell_type": "code",
   "execution_count": 3,
   "metadata": {},
   "outputs": [],
   "source": [
    "#| export\n",
    "from triumph.motor import evaluate\n",
    "from triumph.utilities import *\n",
    "import numpy as np\n",
    "from fastcore.utils import *"
   ]
  },
  {
   "attachments": {},
   "cell_type": "markdown",
   "metadata": {},
   "source": [
    "## Defining a battery\n",
    "\n",
    "We're focusing on using `prismatic` cells, which are the most common type of cell used in electric vehicles. These cells are rectangular in shape, and are typically packaged into a module with other cells. The module is then packaged into a pack with other modules. The pack is the unit that is installed into the vehicle.\n",
    "\n",
    "Typical voltages of a single prismatic cell are 3.2V, 3.6V, and 3.8V. The capacity of a cell is typically between 1 and 10 Ah. The capacity of a module is typically between 10 and 100 Ah. The capacity of a pack is typically between 100 and 1000 Ah."
   ]
  },
  {
   "cell_type": "code",
   "execution_count": 4,
   "metadata": {},
   "outputs": [],
   "source": [
    "#| export\n",
    "\n",
    "class Cell():\n",
    "  \"\"\" Defines a single cell. \"\"\"\n",
    "  def __init__(self,\n",
    "               name='Generic Cell',\n",
    "               voltage=3.2, # V DC, nominal\n",
    "               capacity=140, # Ah\n",
    "               dimensions = {'length':None, 'width':None, 'height':None}, # inches\n",
    "               mass = None, # lbs\n",
    "               cost = None, # USD\n",
    "               ):\n",
    "    self.voltage = voltage\n",
    "    self.capacity = capacity\n",
    "    self.kWh = capacity*voltage/1000\n",
    "    self.energy = None\n",
    "    self.mass = mass\n",
    "    self.cost = cost\n",
    "    self.name = name\n",
    "    self.dimensions = dimensions\n",
    "    if self.dimensions['length'] is not None and self.dimensions['width'] is not None and self.dimensions['height'] is not None:\n",
    "      self.volume = self.dimensions['length']*self.dimensions['width']*self.dimensions['height']\n",
    "    else:\n",
    "      self.volume = None\n",
    "    self.power = None\n",
    "    self.current = None\n",
    "    self.resistance = None\n",
    "    self.efficiency = None\n",
    "    \n",
    "    def __repr__(self):\n",
    "      return f'{self.name} ({round(self.voltage,2)}V, {round(self.capacity,2)}Ah, {round(self.mass,2)} lbs'\n",
    "\n",
    "class Battery():\n",
    "  \"\"\" Defines a battery as a collection of cells. Cells are assumed to \n",
    "  be connected in series.\"\"\"\n",
    "  def __init__(self, cell=Cell(),\n",
    "               motor_voltage=144, # V DC, nominal,\n",
    "               n_cells=None, # number of cells in series\n",
    "               ):\n",
    "    self.cell = cell\n",
    "    self.name = cell.name + ' Battery'\n",
    "    if not n_cells:\n",
    "      self.n_cells = cells_for_voltage(motor_voltage=motor_voltage, cell_voltage=cell.voltage)\n",
    "    else:\n",
    "      self.n_cells = n_cells\n",
    "    self.voltage = self.n_cells*cell.voltage\n",
    "    self.kWh = self.n_cells*cell.kWh\n",
    "    self.energy = None\n",
    "    if self.cell.mass is not None:\n",
    "      self.mass = self.n_cells*cell.mass\n",
    "    else:\n",
    "      self.mass = None\n",
    "    if cell.cost is not None:\n",
    "      self.cost = self.n_cells*cell.cost\n",
    "    else:\n",
    "      self.cost = None\n",
    "    if self.cell.volume is not None:\n",
    "      self.volume = self.n_cells*self.cell.volume\n",
    "    else:\n",
    "      self.volume = None\n",
    "    self.power = None\n",
    "    self.current = None\n",
    "    self.resistance = None\n",
    "    self.efficiency = None\n",
    "    \n",
    "  def __repr__(self):\n",
    "    return f'{self.name} ({round(self.voltage,2)}V, {round(self.kWh,2)}kWh, {round(self.mass,2)} lbs)'\n",
    "\n",
    "def cells_for_voltage(motor_voltage=None, # motor V DC, nominal\n",
    "                  cell_voltage=3.2, # individual cell V DC, nominal\n",
    "                )->int: # number of cells required\n",
    "    \"\"\"Returns the number of cells required to achieve the desired motor voltage.\n",
    "    Rounds up to the nearest integer.\n",
    "    \"\"\"\n",
    "    return int(np.floor(motor_voltage/cell_voltage))\n"
   ]
  },
  {
   "attachments": {},
   "cell_type": "markdown",
   "metadata": {},
   "source": [
    "Motor voltage can vary. The NetGain Hyper9 HV motor is 144V nominal, but can increase up to 180V. The Tesla Model S motor is 375V nominal, but can increase up to 450V."
   ]
  },
  {
   "cell_type": "code",
   "execution_count": 5,
   "metadata": {},
   "outputs": [],
   "source": [
    "test_eq(cells_for_voltage(motor_voltage=144, cell_voltage=3.2), 45)\n",
    "test_eq(cells_for_voltage(motor_voltage=144, cell_voltage=3.6), 40)\n",
    "test_eq(cells_for_voltage(motor_voltage=180, cell_voltage=3.6), 50)"
   ]
  },
  {
   "attachments": {},
   "cell_type": "markdown",
   "metadata": {},
   "source": [
    "An initial target is 50 cells at 3.6V for a total voltage of 180V. This is a common voltage for electric vehicles. "
   ]
  },
  {
   "cell_type": "code",
   "execution_count": 6,
   "metadata": {},
   "outputs": [
    {
     "name": "stdout",
     "output_type": "stream",
     "text": [
      "Cells required for 180 total V at 3.6 V per cell: 50\n"
     ]
    }
   ],
   "source": [
    "cell_voltage = 3.6 # V DC, nominal\n",
    "motor_voltage = 180 # V DC, nominal\n",
    "n_cells = cells_for_voltage(motor_voltage=motor_voltage, cell_voltage=cell_voltage)\n",
    "print(f\"Cells required for {motor_voltage} total V at {cell_voltage} V per cell: {n_cells}\")"
   ]
  },
  {
   "cell_type": "code",
   "execution_count": 7,
   "metadata": {},
   "outputs": [],
   "source": [
    "#| export\n",
    "#| hide \n",
    "def miles_per_cell(cell=None, # cell object\n",
    "                miles_per_kwh=5, # km per kWh\n",
    "                )->float: # km per cell\n",
    "    \"\"\"Returns the number of km per cell.\n",
    "    \"\"\"\n",
    "    if cell:\n",
    "        return cell.kWh*miles_per_kwh\n",
    "    else:\n",
    "        raise ValueError(\"No cell object provided.\")\n",
    "\n",
    "@patch\n",
    "def range(self:Battery,\n",
    "        miles_per_kwh=5, # miles per kWh\n",
    "        )->float: # miles range\n",
    "    \"\"\"Returns the range estimate for the battery.\n",
    "    \"\"\"\n",
    "    return round(self.kWh*miles_per_kwh,2)\n",
    "\n",
    "@patch(as_prop=True)\n",
    "def cost_per_mile(self:Battery):\n",
    "    \"\"\"Returns the cost per mile for the battery.\n",
    "    \"\"\"\n",
    "    return round(self.cost/self.range(miles_per_kwh=3),2)"
   ]
  },
  {
   "attachments": {},
   "cell_type": "markdown",
   "metadata": {},
   "source": [
    "## Range\n",
    "\n",
    "Range depends on the miles per kWh obtained during driving. Estimates for miles per kWh range from 3 to 5, depending on driving conditions. We will use 3 miles per kWh as a conservative estimate."
   ]
  },
  {
   "cell_type": "code",
   "execution_count": 8,
   "metadata": {},
   "outputs": [],
   "source": [
    "miles_per_kwh = 3.5 # miles per kWh"
   ]
  },
  {
   "cell_type": "code",
   "execution_count": 9,
   "metadata": {},
   "outputs": [],
   "source": [
    "cell = Cell(voltage=3.6, capacity=140)\n",
    "test_eq(miles_per_cell(cell=cell, miles_per_kwh=miles_per_kwh), 1.764)"
   ]
  },
  {
   "cell_type": "code",
   "execution_count": 10,
   "metadata": {},
   "outputs": [],
   "source": [
    "cell = Cell(voltage=3.6, capacity=140)\n",
    "battery = Battery(cell=cell, motor_voltage=180)\n",
    "test_eq(battery.range(miles_per_kwh=miles_per_kwh), 88.2)"
   ]
  },
  {
   "attachments": {},
   "cell_type": "markdown",
   "metadata": {},
   "source": [
    "## Sample Batteries\n",
    "\n",
    "Let's look at the specs for different batteries.\n"
   ]
  },
  {
   "cell_type": "code",
   "execution_count": 11,
   "metadata": {},
   "outputs": [],
   "source": [
    "batteries = []"
   ]
  },
  {
   "attachments": {},
   "cell_type": "markdown",
   "metadata": {},
   "source": [
    "#### 163Ah Lithium Battery L173F163B CALB LiFePO4 Prismatic Cell\n",
    "\n",
    "[Link](https://www.electriccarpartscompany.com/163ah-calb-batteries-l173f163b)\n",
    "\n",
    "\n",
    "- 163Ah, 3.2V\n",
    "- L173F163B\n",
    "- CALB Lithium LiFePO4\n",
    "- Prismatic Cell Batteries\n",
    "- 6.9L * 1.43W * 9.1H in\n",
    "- 174.4 * 36.4 * 230.5 mm\n",
    "- 6.68 Lbs. / 3.03 Kg\n"
   ]
  },
  {
   "cell_type": "code",
   "execution_count": 12,
   "metadata": {},
   "outputs": [
    {
     "name": "stdout",
     "output_type": "stream",
     "text": [
      "CALB_163Ah Battery (180.0V, 29.34kWh, 334.0 lbs)\n"
     ]
    }
   ],
   "source": [
    "cell = Cell(name='CALB_163Ah',voltage=3.6,capacity=163,\n",
    "                  dimensions={'length': 6.9, 'width': 1.43, 'height': 9.1},\n",
    "                  mass=6.68,\n",
    "                  cost=167.00)\n",
    "\n",
    "battery = Battery(cell=cell, motor_voltage=180)\n",
    "test_eq(battery.range(miles_per_kwh=miles_per_kwh), 102.69)\n",
    "test_eq(battery.mass, 334.0)\n",
    "test_eq(round(battery.kWh,2), 29.34)\n",
    "test_eq(round(battery.cost,2), 8350.0)\n",
    "print(battery)\n",
    "batteries.append(battery)"
   ]
  },
  {
   "attachments": {},
   "cell_type": "markdown",
   "metadata": {},
   "source": [
    "Here is a version using 48 cells, which may be convenient for BMS integration:"
   ]
  },
  {
   "cell_type": "code",
   "execution_count": 13,
   "metadata": {},
   "outputs": [
    {
     "name": "stdout",
     "output_type": "stream",
     "text": [
      "CALB_163Ah Battery (172.8V, 28.17kWh, 320.64 lbs)\n"
     ]
    }
   ],
   "source": [
    "cell = Cell(name='CALB_163Ah',voltage=3.6,capacity=163,\n",
    "                  dimensions={'length': 6.9, 'width': 1.43, 'height': 9.1},\n",
    "                  mass=6.68,\n",
    "                  cost=167.00)\n",
    "battery = Battery(cell=cell, n_cells=48)\n",
    "test_eq(battery.range(miles_per_kwh=miles_per_kwh), 98.58)\n",
    "test_eq(battery.mass, 320.64)\n",
    "test_eq(round(battery.kWh,2), 28.17)\n",
    "test_eq(round(battery.cost,2), 8016.0)\n",
    "print(battery)\n",
    "batteries.append(battery)"
   ]
  },
  {
   "attachments": {},
   "cell_type": "markdown",
   "metadata": {},
   "source": [
    "And here is the smallest possible battery pack that can generate 144V:"
   ]
  },
  {
   "cell_type": "code",
   "execution_count": 14,
   "metadata": {},
   "outputs": [
    {
     "name": "stdout",
     "output_type": "stream",
     "text": [
      "CALB_163Ah Battery (144.0V, 23.47kWh, 267.2 lbs)\n"
     ]
    }
   ],
   "source": [
    "cell = Cell(name='CALB_163Ah',voltage=3.6,capacity=163,\n",
    "                  dimensions={'length': 6.9, 'width': 1.43, 'height': 9.1},\n",
    "                  mass=6.68,\n",
    "                  cost=167.00)\n",
    "battery = Battery(cell=cell, motor_voltage=144)\n",
    "test_eq(battery.range(miles_per_kwh=miles_per_kwh), 82.15)\n",
    "test_eq(battery.mass, 267.2)\n",
    "test_eq(round(battery.kWh,2), 23.47)\n",
    "test_eq(round(battery.cost,2), 6680.0)\n",
    "print(battery)\n",
    "batteries.append(battery)"
   ]
  },
  {
   "attachments": {},
   "cell_type": "markdown",
   "metadata": {},
   "source": [
    "#### CA180FI 180Ah CALB LiFePO4 Lithium Battery\n",
    "\n",
    "[Link](https://www.electriccarpartscompany.com/180Ah-CALB-UL-Certified-Batteries)\n",
    "\n",
    "\n",
    "- 180Ah, 3.2V, 2C\n",
    "- CA180FI\n",
    "- CALB Lithium LiFePO4\n",
    "- UL Certified!\n",
    "- Prismatic Cell Batteries\n",
    "- USA or China Stock\n",
    "- 7.1L * 2.8W * 11H in\n",
    "- 180 * 71 * 280 mm\n",
    "- 12.6 Lbs. / 5.7 Kg"
   ]
  },
  {
   "cell_type": "code",
   "execution_count": 15,
   "metadata": {},
   "outputs": [
    {
     "name": "stdout",
     "output_type": "stream",
     "text": [
      "CALB_180Ah Battery (180.0V, 32.4kWh, 630.0 lbs)\n"
     ]
    }
   ],
   "source": [
    "cell = Cell(name='CALB_180Ah', voltage=3.6,capacity=180,\n",
    "                dimensions={'length': 7.1, 'width': 2.8, 'height': 11},\n",
    "                mass=12.6,\n",
    "                cost=171.00)\n",
    "battery = Battery(cell=cell, motor_voltage=180)\n",
    "test_eq(battery.range(miles_per_kwh=miles_per_kwh), 113.4)\n",
    "test_eq(battery.mass, 630.0)\n",
    "test_eq(round(battery.kWh,2), 32.4)\n",
    "test_eq(round(battery.cost,2), 8550.0)\n",
    "print(battery)\n",
    "batteries.append(battery)"
   ]
  },
  {
   "attachments": {},
   "cell_type": "markdown",
   "metadata": {},
   "source": [
    "#### ElectricGT OXDE 2.2kWh Battery Module\n",
    "\n",
    "This is a battery module developed by ElectricGT\n",
    "[Link](https://electricgt.com/ox-drive-batteries/)\n",
    "\n",
    "The module has the following specs:\n",
    "\n",
    "- 14.8V nominal, 2.2kWh, 151Ah\n",
    "- Dimensions: 14.02\" x 5.98\" x 4.3\"\n",
    "- Weight: 25 lbs\n",
    "- $695 each"
   ]
  },
  {
   "cell_type": "code",
   "execution_count": 16,
   "metadata": {},
   "outputs": [
    {
     "name": "stdout",
     "output_type": "stream",
     "text": [
      "ElectricGT_OXDE Battery (177.6V, 26.82kWh, 300 lbs)\n"
     ]
    }
   ],
   "source": [
    "cell = Cell(name='ElectricGT_OXDE',voltage=14.8,capacity=151,mass=25,cost=695)\n",
    "battery = Battery(cell=cell, motor_voltage=180)\n",
    "test_eq(battery.range(miles_per_kwh=miles_per_kwh), 93.86)\n",
    "test_eq(battery.mass, 300)\n",
    "test_eq(round(battery.kWh,2), 26.82)\n",
    "test_eq(round(battery.cost,2), 8340)\n",
    "print(battery)\n",
    "batteries.append(battery)"
   ]
  },
  {
   "attachments": {},
   "cell_type": "markdown",
   "metadata": {},
   "source": [
    "#### Compare batteries in terms of range, total cost, and cost per km\n",
    "\n",
    "We can compare the batteries in terms of range, weight, total cost, and cost per km."
   ]
  },
  {
   "cell_type": "code",
   "execution_count": 17,
   "metadata": {},
   "outputs": [
    {
     "data": {
      "text/html": [
       "<div>\n",
       "<style scoped>\n",
       "    .dataframe tbody tr th:only-of-type {\n",
       "        vertical-align: middle;\n",
       "    }\n",
       "\n",
       "    .dataframe tbody tr th {\n",
       "        vertical-align: top;\n",
       "    }\n",
       "\n",
       "    .dataframe thead th {\n",
       "        text-align: right;\n",
       "    }\n",
       "</style>\n",
       "<table border=\"1\" class=\"dataframe\">\n",
       "  <thead>\n",
       "    <tr style=\"text-align: right;\">\n",
       "      <th></th>\n",
       "      <th>cell</th>\n",
       "      <th>n_cells</th>\n",
       "      <th>range</th>\n",
       "      <th>mass</th>\n",
       "      <th>kWh</th>\n",
       "      <th>cost</th>\n",
       "      <th>cost_per_mile</th>\n",
       "      <th>voltage</th>\n",
       "    </tr>\n",
       "  </thead>\n",
       "  <tbody>\n",
       "    <tr>\n",
       "      <th>3</th>\n",
       "      <td>CALB_180Ah</td>\n",
       "      <td>50</td>\n",
       "      <td>113.40</td>\n",
       "      <td>630.00</td>\n",
       "      <td>32.40</td>\n",
       "      <td>8550.0</td>\n",
       "      <td>87.96</td>\n",
       "      <td>180.0</td>\n",
       "    </tr>\n",
       "    <tr>\n",
       "      <th>0</th>\n",
       "      <td>CALB_163Ah</td>\n",
       "      <td>50</td>\n",
       "      <td>102.69</td>\n",
       "      <td>334.00</td>\n",
       "      <td>29.34</td>\n",
       "      <td>8350.0</td>\n",
       "      <td>94.86</td>\n",
       "      <td>180.0</td>\n",
       "    </tr>\n",
       "    <tr>\n",
       "      <th>1</th>\n",
       "      <td>CALB_163Ah</td>\n",
       "      <td>48</td>\n",
       "      <td>98.58</td>\n",
       "      <td>320.64</td>\n",
       "      <td>28.17</td>\n",
       "      <td>8016.0</td>\n",
       "      <td>94.86</td>\n",
       "      <td>172.8</td>\n",
       "    </tr>\n",
       "    <tr>\n",
       "      <th>2</th>\n",
       "      <td>CALB_163Ah</td>\n",
       "      <td>40</td>\n",
       "      <td>82.15</td>\n",
       "      <td>267.20</td>\n",
       "      <td>23.47</td>\n",
       "      <td>6680.0</td>\n",
       "      <td>94.86</td>\n",
       "      <td>144.0</td>\n",
       "    </tr>\n",
       "    <tr>\n",
       "      <th>4</th>\n",
       "      <td>ElectricGT_OXDE</td>\n",
       "      <td>12</td>\n",
       "      <td>93.86</td>\n",
       "      <td>300.00</td>\n",
       "      <td>26.82</td>\n",
       "      <td>8340.0</td>\n",
       "      <td>103.67</td>\n",
       "      <td>177.6</td>\n",
       "    </tr>\n",
       "  </tbody>\n",
       "</table>\n",
       "</div>"
      ],
      "text/plain": [
       "              cell  n_cells   range    mass    kWh    cost  cost_per_mile  \\\n",
       "3       CALB_180Ah       50  113.40  630.00  32.40  8550.0          87.96   \n",
       "0       CALB_163Ah       50  102.69  334.00  29.34  8350.0          94.86   \n",
       "1       CALB_163Ah       48   98.58  320.64  28.17  8016.0          94.86   \n",
       "2       CALB_163Ah       40   82.15  267.20  23.47  6680.0          94.86   \n",
       "4  ElectricGT_OXDE       12   93.86  300.00  26.82  8340.0         103.67   \n",
       "\n",
       "   voltage  \n",
       "3    180.0  \n",
       "0    180.0  \n",
       "1    172.8  \n",
       "2    144.0  \n",
       "4    177.6  "
      ]
     },
     "execution_count": 17,
     "metadata": {},
     "output_type": "execute_result"
    }
   ],
   "source": [
    "df = pd.DataFrame([{'cell': battery.cell.name,\n",
    "  'n_cells': battery.n_cells,\n",
    "  'range': battery.range(miles_per_kwh=miles_per_kwh),\n",
    "  'mass': battery.mass,\n",
    "  'kWh': round(battery.kWh,2),\n",
    "  'cost': round(battery.cost,2),\n",
    "  'cost_per_mile': battery.cost_per_mile,\n",
    "  'voltage': battery.voltage,\n",
    "    }  for battery in batteries])\n",
    "df.sort_values(by='cost_per_mile', ascending=True)"
   ]
  },
  {
   "cell_type": "code",
   "execution_count": 19,
   "metadata": {},
   "outputs": [],
   "source": [
    "#| hide\n",
    "import nbdev; nbdev.nbdev_export()"
   ]
  }
 ],
 "metadata": {
  "kernelspec": {
   "display_name": "triumph",
   "language": "python",
   "name": "python3"
  },
  "language_info": {
   "codemirror_mode": {
    "name": "ipython",
    "version": 3
   },
   "file_extension": ".py",
   "mimetype": "text/x-python",
   "name": "python",
   "nbconvert_exporter": "python",
   "pygments_lexer": "ipython3",
   "version": "3.10.10"
  },
  "orig_nbformat": 4
 },
 "nbformat": 4,
 "nbformat_minor": 2
}
