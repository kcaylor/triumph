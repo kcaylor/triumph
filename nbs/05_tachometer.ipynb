{
 "cells": [
  {
   "attachments": {},
   "cell_type": "markdown",
   "metadata": {},
   "source": [
    "# tachometer\n",
    "\n",
    "Code and tests for the digital-analog tachometer interface."
   ]
  },
  {
   "cell_type": "code",
   "execution_count": 5,
   "metadata": {},
   "outputs": [],
   "source": [
    "#| default_exp tachometer"
   ]
  },
  {
   "attachments": {},
   "cell_type": "markdown",
   "metadata": {},
   "source": [
    "\n",
    "![](images/tachometer.jpeg)\n",
    "\n",
    "The tachometer in the Triumph TR3A works by counting the number of times a magnet passes a sensor. The sensor is a reed switch that closes when a magnet passes by. The magnet is attached to the drive shaft of the engine. The reed switch is attached to the tachometer. The tachometer counts the number of times the reed switch closes and displays the engine RPM on a dial.\n",
    "\n",
    "Because the EV conversion will no longer have a mechanical drive shaft, the tachometer will no longer work. This notebook describes how to build a digital-analog interface to the tachometer so that it can be used to display the speed of the car.\n",
    "\n",
    "Motor RPMs will be sent to a a Feather M0 Bluefruit LE microcontroller. The microcontroller will then use this input to set the speed on a small RC motor which will be coupled to the tachometer.\n",
    "\n",
    "This code primarily describes the operation of the Feather M0 Bluefruit LE microcontroller. The microcontroller is programmed using CircuitPython. The code is stored in the file `code.py` on the microcontroller. The microcontroller is connected to the computer via a USB cable. The code can be edited on the computer and then copied to the microcontroller. The microcontroller will then run the code."
   ]
  },
  {
   "cell_type": "code",
   "execution_count": 6,
   "metadata": {},
   "outputs": [],
   "source": [
    "#| hide\n",
    "from nbdev.showdoc import *\n",
    "from fastcore.test import *"
   ]
  },
  {
   "cell_type": "code",
   "execution_count": 7,
   "metadata": {},
   "outputs": [],
   "source": [
    "#| export\n",
    "\n"
   ]
  },
  {
   "cell_type": "code",
   "execution_count": 8,
   "metadata": {},
   "outputs": [],
   "source": [
    "#| hide\n",
    "import nbdev; nbdev.nbdev_export()"
   ]
  }
 ],
 "metadata": {
  "kernelspec": {
   "display_name": "triumph",
   "language": "python",
   "name": "python3"
  },
  "language_info": {
   "codemirror_mode": {
    "name": "ipython",
    "version": 3
   },
   "file_extension": ".py",
   "mimetype": "text/x-python",
   "name": "python",
   "nbconvert_exporter": "python",
   "pygments_lexer": "ipython3",
   "version": "3.10.10"
  },
  "orig_nbformat": 4
 },
 "nbformat": 4,
 "nbformat_minor": 2
}
