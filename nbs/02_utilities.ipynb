{
 "cells": [
  {
   "attachments": {},
   "cell_type": "markdown",
   "metadata": {},
   "source": [
    "# utilities\n",
    "\n",
    "Converstions and other simple functions for use in other notebooks."
   ]
  },
  {
   "cell_type": "code",
   "execution_count": 1,
   "metadata": {},
   "outputs": [],
   "source": [
    "#| default_exp utilities "
   ]
  },
  {
   "cell_type": "code",
   "execution_count": 4,
   "metadata": {},
   "outputs": [],
   "source": [
    "#| hide\n",
    "from nbdev.showdoc import *\n",
    "from fastcore.test import *"
   ]
  },
  {
   "cell_type": "code",
   "execution_count": 3,
   "metadata": {},
   "outputs": [],
   "source": [
    "#| export"
   ]
  },
  {
   "attachments": {},
   "cell_type": "markdown",
   "metadata": {},
   "source": [
    "### Simple conversions\n",
    "\n",
    "First, let's setup some simple conversions to handle the units we'll be using."
   ]
  },
  {
   "cell_type": "code",
   "execution_count": 1,
   "metadata": {},
   "outputs": [],
   "source": [
    "#| export\n",
    "def Nm_to_Ftlbs(Nm): \n",
    "    \"\"\" Convert Nm to ft-lbs \"\"\"\n",
    "    return Nm * 0.737562149\n",
    "    \n",
    "def Ft_lbs_to_Nm(ft_lbs):\n",
    "    \"\"\" Convert ft-lbs to Nm \"\"\"\n",
    "    return ft_lbs * 1.35581795\n",
    "\n",
    "def Inch_lbs_to_Nm(inch_lbs):\n",
    "    \"\"\" Convert inch-lbs to Nm \"\"\"\n",
    "    return inch_lbs * 0.112984829\n",
    "\n",
    "def Kg_to_lbs(kg):\n",
    "    \"\"\" Convert kg to lbs \"\"\"\n",
    "    return round(kg * 2.20462262)\n",
    "\n",
    "def lbs_to_Kg(lbs):\n",
    "    \"\"\" Convert lbs to kg \"\"\"\n",
    "    return lbs * 0.45359237\n",
    "\n",
    "def meters_to_miles(meters):\n",
    "    \"\"\" Convert meters to miles \"\"\"\n",
    "    return meters * 0.000621371\n",
    "\n",
    "def feet_to_meters(feet):\n",
    "    \"\"\" Convert feet to meters \"\"\"\n",
    "    return feet * 0.3048\n",
    "\n",
    "def meters_to_inches(meters):\n",
    "    \"\"\" Convert meters to inches \"\"\"\n",
    "    return meters * 39.3700787"
   ]
  },
  {
   "cell_type": "code",
   "execution_count": 5,
   "metadata": {},
   "outputs": [],
   "source": [
    "test_eq(round(Nm_to_Ftlbs(250)),184)"
   ]
  },
  {
   "cell_type": "code",
   "execution_count": 5,
   "metadata": {},
   "outputs": [],
   "source": [
    "#| hide\n",
    "import nbdev; nbdev.nbdev_export()"
   ]
  }
 ],
 "metadata": {
  "kernelspec": {
   "display_name": "triumph",
   "language": "python",
   "name": "python3"
  },
  "language_info": {
   "codemirror_mode": {
    "name": "ipython",
    "version": 3
   },
   "file_extension": ".py",
   "mimetype": "text/x-python",
   "name": "python",
   "nbconvert_exporter": "python",
   "pygments_lexer": "ipython3",
   "version": "3.10.10"
  },
  "orig_nbformat": 4
 },
 "nbformat": 4,
 "nbformat_minor": 2
}
